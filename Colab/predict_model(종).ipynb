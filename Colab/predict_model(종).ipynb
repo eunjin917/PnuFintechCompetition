{
  "nbformat": 4,
  "nbformat_minor": 0,
  "metadata": {
    "colab": {
      "provenance": [],
      "include_colab_link": true
    },
    "kernelspec": {
      "name": "python3",
      "display_name": "Python 3"
    },
    "language_info": {
      "name": "python"
    }
  },
  "cells": [
    {
      "cell_type": "markdown",
      "metadata": {
        "id": "view-in-github",
        "colab_type": "text"
      },
      "source": [
        "<a href=\"https://colab.research.google.com/github/eunjin917/PnuFintechCompetition/blob/main/Colab/predict_model(%EC%A2%85).ipynb\" target=\"_parent\"><img src=\"https://colab.research.google.com/assets/colab-badge.svg\" alt=\"Open In Colab\"/></a>"
      ]
    },
    {
      "cell_type": "code",
      "execution_count": null,
      "metadata": {
        "colab": {
          "base_uri": "https://localhost:8080/"
        },
        "id": "YwI2RaixqkGl",
        "outputId": "fa4a89c9-0a8b-45ba-864f-029ed21bf967"
      },
      "outputs": [
        {
          "output_type": "stream",
          "name": "stdout",
          "text": [
            "Mounted at /content/drive\n"
          ]
        }
      ],
      "source": [
        "from google.colab import drive\n",
        "drive.mount('/content/drive')"
      ]
    },
    {
      "cell_type": "code",
      "source": [
        "import pandas as pd\n",
        "import numpy as np\n",
        "import matplotlib.pyplot as plt"
      ],
      "metadata": {
        "id": "5GfZv68TqlCH"
      },
      "execution_count": null,
      "outputs": []
    },
    {
      "cell_type": "code",
      "source": [
        "ori_data = []\n",
        "datasize = 2 # 풋고추[0], 새송이[1]\n",
        "data = []\n",
        "\n",
        "for i in range(datasize):\n",
        "  ori_data.append(pd.read_csv(\"/content/drive/MyDrive/fintech_project/data/sample_{}_total.csv\".format(i), sep=r'\\s*,\\s*')) # 2021-01-04부터 2023-01-23까지 2년치 데이터\n",
        "  data.append(ori_data[i].sort_values(by=['DELNG_DE'])[['DELNG_DE', 'PRI_AVE']])"
      ],
      "metadata": {
        "id": "r5-95WPIqlt8"
      },
      "execution_count": null,
      "outputs": []
    },
    {
      "cell_type": "code",
      "source": [
        "good_type = []\n",
        "company_list = []\n",
        "\n",
        "for i in range(datasize):\n",
        "  for j in range(len(ori_data[i])):\n",
        "    good_type.append(ori_data[i][\"PRDLST_NM\"][j])\n",
        "    company_list.append(ori_data[i][\"CPR_NM\"][j])\n",
        "\n",
        "print(list(set(good_type)))\n",
        "print(list(set(company_list)))"
      ],
      "metadata": {
        "colab": {
          "base_uri": "https://localhost:8080/"
        },
        "id": "VapJxoGtRXGR",
        "outputId": "42c9ef42-a890-43ed-ad8f-c64bac93489d"
      },
      "execution_count": null,
      "outputs": [
        {
          "output_type": "stream",
          "name": "stdout",
          "text": [
            "['풋고추', '새송이']\n",
            "['농협가락(공)', '서울청과', '동화청과', '한국청과', '중앙청과']\n"
          ]
        }
      ]
    },
    {
      "cell_type": "markdown",
      "source": [
        "법인별 평균가의 평균가를 구해 target값으로 설정한다."
      ],
      "metadata": {
        "id": "_SY6ig-J3o5d"
      }
    },
    {
      "cell_type": "code",
      "source": [
        "day_mean = [] # 날짜/ 평균값 pandas \n",
        "x_shift_data = [] # 평균가가 shift된 입력 데이터 (input) \n",
        "timestep = 10  # 최근 10영업일로 다음 값 예측\n",
        "mean_values = [] \n",
        "date = []\n",
        "\n",
        "for i in range(datasize):\n",
        "  x_shift_data.append(data[i].groupby('DELNG_DE', as_index=False)['PRI_AVE'].mean()) # ['농협가락(공)', '서울청과', '동화청과', '한국청과', '중앙청과']의 평균값 \n",
        "  x_shift_data[i]['PRI_AVE'] = round(x_shift_data[i]['PRI_AVE'],2)\n",
        "  day_mean.append(x_shift_data[i][[\"DELNG_DE\",\"PRI_AVE\"]])\n",
        "  for s in range(1, timestep+1):\n",
        "    x_shift_data[i]['shift_{}'.format(s)] = x_shift_data[i]['PRI_AVE'].shift(s)\n",
        "\n",
        "for i in range(datasize):\n",
        "  x_shift_data[i] = x_shift_data[i].dropna().drop(\"PRI_AVE\",axis=1).drop(\"DELNG_DE\",axis=1) #자신의 평균가 삭제 => 자신의 평균가를 예측하기 위해 자신의 평균가를 입력으로 넣지 않음, 날짜도 삭제\n",
        "  mean_values.append(day_mean[i][\"PRI_AVE\"].tolist())\n",
        "  date.append(day_mean[i][\"DELNG_DE\"].tolist())\n",
        "\n",
        "x_data = [] # 입력 데이터\n",
        "y_data = [] # 타겟 데이터\n",
        "\n",
        "for i in range(datasize):\n",
        "  x_data.append(np.array(x_shift_data[i][x_shift_data[i].columns].values.tolist())) # 모든 칼럼 값들을 가진 행들을 리스트화 \n",
        "  y_data.append(np.array(mean_values[i][timestep:]).reshape(-1,1)) #timestep만큼 삭제된 정보 이후의 데이터의 타겟값를 반영\n",
        "  date[i] = date[i][timestep:]"
      ],
      "metadata": {
        "id": "l2sNaZXZ2Svm"
      },
      "execution_count": null,
      "outputs": []
    },
    {
      "cell_type": "code",
      "source": [
        "x_data"
      ],
      "metadata": {
        "id": "MBYggY7o0Kzf"
      },
      "execution_count": null,
      "outputs": []
    },
    {
      "cell_type": "code",
      "source": [
        "y_data"
      ],
      "metadata": {
        "id": "YUvb7EAo_RlZ"
      },
      "execution_count": null,
      "outputs": []
    },
    {
      "cell_type": "markdown",
      "source": [
        "MinMaxScaler를 통해 데이터 전처리를 하였다."
      ],
      "metadata": {
        "id": "JTV8eLwjCUL_"
      }
    },
    {
      "cell_type": "code",
      "source": [
        "from sklearn.preprocessing import MinMaxScaler # 전처리 \n",
        "from pickle import dump\n",
        "\n",
        "\n",
        "x_model_sc = [] \n",
        "y_model_sc = [] \n",
        "x_data_sc = []\n",
        "y_data_sc = []\n",
        "for i in range(datasize):\n",
        "  x_model_sc.append(MinMaxScaler())\n",
        "  x_model_sc[i].fit(x_data[i])\n",
        "  y_model_sc.append(MinMaxScaler())\n",
        "  y_model_sc[i].fit(y_data[i])\n",
        "  x_data_sc.append(x_model_sc[i].transform(x_data[i]))\n",
        "  y_data_sc.append(y_model_sc[i].transform(y_data[i]))\n",
        "  dump(x_model_sc[i],open('/content/drive/MyDrive/fintech_project/scaler/x_sc{}.pkl'.format(i),'wb'))\n",
        "  dump(y_model_sc[i],open('/content/drive/MyDrive/fintech_project/scaler/y_sc{}.pkl'.format(i),'wb'))\n",
        "\n"
      ],
      "metadata": {
        "id": "lQBMWVOt0CKw"
      },
      "execution_count": null,
      "outputs": []
    },
    {
      "cell_type": "code",
      "source": [
        "from sklearn.model_selection import train_test_split\n",
        "\n",
        "x_train = [] \n",
        "x_test = []\n",
        "y_train = [] \n",
        "y_test = [] \n",
        "\n",
        "for i in range(datasize):\n",
        "  a,b,c,d = train_test_split(x_data_sc[i], y_data_sc[i], test_size=0.2)\n",
        "  x_train.append(a)\n",
        "  x_test.append(b)\n",
        "  y_train.append(c)\n",
        "  y_test.append(d)\n"
      ],
      "metadata": {
        "id": "Q9R8lyhGC0dU"
      },
      "execution_count": null,
      "outputs": []
    },
    {
      "cell_type": "code",
      "source": [
        "from sklearn.metrics import mean_absolute_error\n",
        "from sklearn.metrics import r2_score\n",
        "from tensorflow import keras\n",
        "from keras.models import Sequential\n",
        "from keras.layers import SimpleRNN\n",
        "from keras.optimizers import Adam\n",
        "from keras.callbacks import EarlyStopping\n",
        "\n",
        "model = [] \n",
        "history = [] \n",
        "for i in range(datasize):\n",
        "  model.append(keras.Sequential())\n",
        "  model[i].add(keras.layers.LSTM(512, dropout=0.1, return_sequences = True, input_shape = (x_train[i].shape[1], 1)))\n",
        "  model[i].add(keras.layers.LSTM(256, dropout=0.1, return_sequences = True))\n",
        "  model[i].add(keras.layers.LSTM(128, dropout=0.1, return_sequences = True))\n",
        "  model[i].add(keras.layers.LSTM(64, dropout=0.1, return_sequences = True))\n",
        "  model[i].add(keras.layers.LSTM(32, dropout=0.1))\n",
        "  model[i].add(keras.layers.Dense(1))\n",
        "  model[i].summary()\n",
        "\n",
        "  model[i].compile(optimizer = \"adam\", loss = 'mean_squared_error')\n",
        "  checkpoint_cb =keras.callbacks.ModelCheckpoint('/content/drive/MyDrive/fintech_project/model/LSTM-model{}_adam.h5'.format(i))\n",
        "  early_stopping_cb = keras.callbacks.EarlyStopping(patience=20, restore_best_weights=True)\n",
        "  history.append(model[i].fit(x_train[i], y_train[i], epochs=1000, batch_size=64,\n",
        "                    validation_data=(x_test[i], y_test[i]), callbacks=[checkpoint_cb,early_stopping_cb]))\n",
        "print('finish')"
      ],
      "metadata": {
        "colab": {
          "base_uri": "https://localhost:8080/"
        },
        "id": "nbwIciFIKDDF",
        "outputId": "7243b601-2f79-4ad4-c7b0-92ca38c47249"
      },
      "execution_count": null,
      "outputs": [
        {
          "output_type": "stream",
          "name": "stdout",
          "text": [
            "Model: \"sequential\"\n",
            "_________________________________________________________________\n",
            " Layer (type)                Output Shape              Param #   \n",
            "=================================================================\n",
            " lstm (LSTM)                 (None, 10, 512)           1052672   \n",
            "                                                                 \n",
            " lstm_1 (LSTM)               (None, 10, 256)           787456    \n",
            "                                                                 \n",
            " lstm_2 (LSTM)               (None, 10, 128)           197120    \n",
            "                                                                 \n",
            " lstm_3 (LSTM)               (None, 10, 64)            49408     \n",
            "                                                                 \n",
            " lstm_4 (LSTM)               (None, 32)                12416     \n",
            "                                                                 \n",
            " dense (Dense)               (None, 1)                 33        \n",
            "                                                                 \n",
            "=================================================================\n",
            "Total params: 2,099,105\n",
            "Trainable params: 2,099,105\n",
            "Non-trainable params: 0\n",
            "_________________________________________________________________\n",
            "Epoch 1/1000\n",
            "8/8 [==============================] - 16s 800ms/step - loss: 0.0538 - val_loss: 0.0208\n",
            "Epoch 2/1000\n",
            "8/8 [==============================] - 3s 378ms/step - loss: 0.0213 - val_loss: 0.0160\n",
            "Epoch 3/1000\n",
            "8/8 [==============================] - 3s 378ms/step - loss: 0.0150 - val_loss: 0.0093\n",
            "Epoch 4/1000\n",
            "8/8 [==============================] - 3s 390ms/step - loss: 0.0117 - val_loss: 0.0078\n",
            "Epoch 5/1000\n",
            "8/8 [==============================] - 3s 399ms/step - loss: 0.0114 - val_loss: 0.0077\n",
            "Epoch 6/1000\n",
            "8/8 [==============================] - 3s 385ms/step - loss: 0.0102 - val_loss: 0.0085\n",
            "Epoch 7/1000\n",
            "8/8 [==============================] - 3s 379ms/step - loss: 0.0106 - val_loss: 0.0084\n",
            "Epoch 8/1000\n",
            "8/8 [==============================] - 3s 385ms/step - loss: 0.0110 - val_loss: 0.0076\n",
            "Epoch 9/1000\n",
            "8/8 [==============================] - 3s 372ms/step - loss: 0.0116 - val_loss: 0.0114\n",
            "Epoch 10/1000\n",
            "8/8 [==============================] - 3s 378ms/step - loss: 0.0114 - val_loss: 0.0078\n",
            "Epoch 11/1000\n",
            "8/8 [==============================] - 3s 382ms/step - loss: 0.0116 - val_loss: 0.0074\n",
            "Epoch 12/1000\n",
            "8/8 [==============================] - 3s 371ms/step - loss: 0.0113 - val_loss: 0.0079\n",
            "Epoch 13/1000\n",
            "8/8 [==============================] - 3s 405ms/step - loss: 0.0116 - val_loss: 0.0086\n",
            "Epoch 14/1000\n",
            "8/8 [==============================] - 3s 400ms/step - loss: 0.0117 - val_loss: 0.0080\n",
            "Epoch 15/1000\n",
            "8/8 [==============================] - 3s 412ms/step - loss: 0.0112 - val_loss: 0.0077\n",
            "Epoch 16/1000\n",
            "8/8 [==============================] - 3s 378ms/step - loss: 0.0124 - val_loss: 0.0080\n",
            "Epoch 17/1000\n",
            "8/8 [==============================] - 3s 375ms/step - loss: 0.0119 - val_loss: 0.0084\n",
            "Epoch 18/1000\n",
            "8/8 [==============================] - 3s 384ms/step - loss: 0.0116 - val_loss: 0.0096\n",
            "Epoch 19/1000\n",
            "8/8 [==============================] - 3s 369ms/step - loss: 0.0109 - val_loss: 0.0075\n",
            "Epoch 20/1000\n",
            "8/8 [==============================] - 3s 381ms/step - loss: 0.0118 - val_loss: 0.0078\n",
            "Epoch 21/1000\n",
            "8/8 [==============================] - 3s 379ms/step - loss: 0.0122 - val_loss: 0.0085\n",
            "Epoch 22/1000\n",
            "8/8 [==============================] - 3s 365ms/step - loss: 0.0122 - val_loss: 0.0082\n",
            "Epoch 23/1000\n",
            "8/8 [==============================] - 3s 377ms/step - loss: 0.0108 - val_loss: 0.0076\n",
            "Epoch 24/1000\n",
            "8/8 [==============================] - 3s 374ms/step - loss: 0.0127 - val_loss: 0.0076\n",
            "Epoch 25/1000\n",
            "8/8 [==============================] - 3s 363ms/step - loss: 0.0117 - val_loss: 0.0078\n",
            "Epoch 26/1000\n",
            "8/8 [==============================] - 3s 371ms/step - loss: 0.0121 - val_loss: 0.0087\n",
            "Epoch 27/1000\n",
            "8/8 [==============================] - 3s 366ms/step - loss: 0.0108 - val_loss: 0.0077\n",
            "Epoch 28/1000\n",
            "8/8 [==============================] - 3s 366ms/step - loss: 0.0106 - val_loss: 0.0074\n",
            "Epoch 29/1000\n",
            "8/8 [==============================] - 3s 364ms/step - loss: 0.0104 - val_loss: 0.0080\n",
            "Epoch 30/1000\n",
            "8/8 [==============================] - 3s 391ms/step - loss: 0.0107 - val_loss: 0.0075\n",
            "Epoch 31/1000\n",
            "8/8 [==============================] - 3s 383ms/step - loss: 0.0111 - val_loss: 0.0075\n",
            "Epoch 32/1000\n",
            "8/8 [==============================] - 3s 391ms/step - loss: 0.0108 - val_loss: 0.0073\n",
            "Epoch 33/1000\n",
            "8/8 [==============================] - 3s 386ms/step - loss: 0.0106 - val_loss: 0.0076\n",
            "Epoch 34/1000\n",
            "8/8 [==============================] - 3s 399ms/step - loss: 0.0109 - val_loss: 0.0076\n",
            "Epoch 35/1000\n",
            "8/8 [==============================] - 3s 381ms/step - loss: 0.0116 - val_loss: 0.0094\n",
            "Epoch 36/1000\n",
            "8/8 [==============================] - 3s 375ms/step - loss: 0.0115 - val_loss: 0.0074\n",
            "Epoch 37/1000\n",
            "8/8 [==============================] - 3s 377ms/step - loss: 0.0118 - val_loss: 0.0080\n",
            "Epoch 38/1000\n",
            "8/8 [==============================] - 3s 389ms/step - loss: 0.0111 - val_loss: 0.0080\n",
            "Epoch 39/1000\n",
            "8/8 [==============================] - 3s 386ms/step - loss: 0.0117 - val_loss: 0.0092\n",
            "Epoch 40/1000\n",
            "8/8 [==============================] - 3s 378ms/step - loss: 0.0103 - val_loss: 0.0078\n",
            "Epoch 41/1000\n",
            "8/8 [==============================] - 3s 385ms/step - loss: 0.0113 - val_loss: 0.0074\n",
            "Epoch 42/1000\n",
            "8/8 [==============================] - 3s 373ms/step - loss: 0.0124 - val_loss: 0.0081\n",
            "Epoch 43/1000\n",
            "8/8 [==============================] - 3s 396ms/step - loss: 0.0119 - val_loss: 0.0075\n",
            "Epoch 44/1000\n",
            "8/8 [==============================] - 3s 386ms/step - loss: 0.0099 - val_loss: 0.0086\n",
            "Epoch 45/1000\n",
            "8/8 [==============================] - 3s 383ms/step - loss: 0.0120 - val_loss: 0.0075\n",
            "Epoch 46/1000\n",
            "8/8 [==============================] - 3s 374ms/step - loss: 0.0107 - val_loss: 0.0077\n",
            "Epoch 47/1000\n",
            "8/8 [==============================] - 3s 373ms/step - loss: 0.0107 - val_loss: 0.0079\n",
            "Epoch 48/1000\n",
            "8/8 [==============================] - 3s 374ms/step - loss: 0.0104 - val_loss: 0.0078\n",
            "Epoch 49/1000\n",
            "8/8 [==============================] - 3s 388ms/step - loss: 0.0111 - val_loss: 0.0096\n",
            "Epoch 50/1000\n",
            "8/8 [==============================] - 3s 377ms/step - loss: 0.0112 - val_loss: 0.0073\n",
            "Epoch 51/1000\n",
            "8/8 [==============================] - 3s 374ms/step - loss: 0.0117 - val_loss: 0.0075\n",
            "Epoch 52/1000\n",
            "8/8 [==============================] - 3s 374ms/step - loss: 0.0116 - val_loss: 0.0079\n",
            "Epoch 53/1000\n",
            "8/8 [==============================] - 3s 387ms/step - loss: 0.0113 - val_loss: 0.0077\n",
            "Epoch 54/1000\n",
            "8/8 [==============================] - 3s 389ms/step - loss: 0.0117 - val_loss: 0.0096\n",
            "Epoch 55/1000\n",
            "8/8 [==============================] - 3s 373ms/step - loss: 0.0134 - val_loss: 0.0080\n",
            "Epoch 56/1000\n",
            "8/8 [==============================] - 3s 377ms/step - loss: 0.0115 - val_loss: 0.0087\n",
            "Epoch 57/1000\n",
            "8/8 [==============================] - 3s 378ms/step - loss: 0.0118 - val_loss: 0.0077\n",
            "Epoch 58/1000\n",
            "8/8 [==============================] - 3s 382ms/step - loss: 0.0109 - val_loss: 0.0077\n",
            "Epoch 59/1000\n",
            "8/8 [==============================] - 3s 386ms/step - loss: 0.0097 - val_loss: 0.0074\n",
            "Epoch 60/1000\n",
            "8/8 [==============================] - 3s 382ms/step - loss: 0.0105 - val_loss: 0.0084\n",
            "Epoch 61/1000\n",
            "8/8 [==============================] - 3s 390ms/step - loss: 0.0115 - val_loss: 0.0073\n",
            "Epoch 62/1000\n",
            "8/8 [==============================] - 3s 389ms/step - loss: 0.0106 - val_loss: 0.0077\n",
            "Epoch 63/1000\n",
            "8/8 [==============================] - 3s 385ms/step - loss: 0.0103 - val_loss: 0.0075\n",
            "Epoch 64/1000\n",
            "8/8 [==============================] - 3s 404ms/step - loss: 0.0115 - val_loss: 0.0095\n",
            "Epoch 65/1000\n",
            "8/8 [==============================] - 3s 371ms/step - loss: 0.0104 - val_loss: 0.0088\n",
            "Epoch 66/1000\n",
            "8/8 [==============================] - 3s 370ms/step - loss: 0.0119 - val_loss: 0.0073\n",
            "Epoch 67/1000\n",
            "8/8 [==============================] - 3s 364ms/step - loss: 0.0117 - val_loss: 0.0086\n",
            "Epoch 68/1000\n",
            "8/8 [==============================] - 3s 377ms/step - loss: 0.0111 - val_loss: 0.0074\n",
            "Epoch 69/1000\n",
            "8/8 [==============================] - 3s 399ms/step - loss: 0.0093 - val_loss: 0.0085\n",
            "Epoch 70/1000\n",
            "8/8 [==============================] - 3s 397ms/step - loss: 0.0109 - val_loss: 0.0074\n",
            "Epoch 71/1000\n",
            "8/8 [==============================] - 3s 417ms/step - loss: 0.0111 - val_loss: 0.0075\n",
            "Epoch 72/1000\n",
            "8/8 [==============================] - 3s 415ms/step - loss: 0.0102 - val_loss: 0.0074\n",
            "Epoch 73/1000\n",
            "8/8 [==============================] - 3s 412ms/step - loss: 0.0105 - val_loss: 0.0079\n",
            "Epoch 74/1000\n",
            "8/8 [==============================] - 3s 416ms/step - loss: 0.0107 - val_loss: 0.0072\n",
            "Epoch 75/1000\n",
            "8/8 [==============================] - 3s 396ms/step - loss: 0.0108 - val_loss: 0.0073\n",
            "Epoch 76/1000\n",
            "8/8 [==============================] - 3s 392ms/step - loss: 0.0112 - val_loss: 0.0080\n",
            "Epoch 77/1000\n",
            "8/8 [==============================] - 3s 396ms/step - loss: 0.0106 - val_loss: 0.0075\n",
            "Epoch 78/1000\n",
            "8/8 [==============================] - 3s 389ms/step - loss: 0.0114 - val_loss: 0.0086\n",
            "Epoch 79/1000\n",
            "8/8 [==============================] - 3s 396ms/step - loss: 0.0108 - val_loss: 0.0081\n",
            "Epoch 80/1000\n",
            "8/8 [==============================] - 3s 402ms/step - loss: 0.0123 - val_loss: 0.0075\n",
            "Epoch 81/1000\n",
            "8/8 [==============================] - 3s 391ms/step - loss: 0.0104 - val_loss: 0.0078\n",
            "Epoch 82/1000\n",
            "8/8 [==============================] - 3s 410ms/step - loss: 0.0113 - val_loss: 0.0075\n",
            "Epoch 83/1000\n",
            "8/8 [==============================] - 3s 407ms/step - loss: 0.0119 - val_loss: 0.0076\n",
            "Epoch 84/1000\n",
            "8/8 [==============================] - 3s 401ms/step - loss: 0.0108 - val_loss: 0.0076\n",
            "Epoch 85/1000\n",
            "8/8 [==============================] - 3s 405ms/step - loss: 0.0104 - val_loss: 0.0076\n",
            "Epoch 86/1000\n",
            "8/8 [==============================] - 3s 394ms/step - loss: 0.0110 - val_loss: 0.0074\n",
            "Epoch 87/1000\n",
            "8/8 [==============================] - 3s 399ms/step - loss: 0.0113 - val_loss: 0.0075\n",
            "Epoch 88/1000\n",
            "8/8 [==============================] - 3s 386ms/step - loss: 0.0114 - val_loss: 0.0075\n",
            "Epoch 89/1000\n",
            "8/8 [==============================] - 3s 395ms/step - loss: 0.0108 - val_loss: 0.0081\n",
            "Epoch 90/1000\n",
            "8/8 [==============================] - 3s 381ms/step - loss: 0.0114 - val_loss: 0.0083\n",
            "Epoch 91/1000\n",
            "8/8 [==============================] - 3s 394ms/step - loss: 0.0101 - val_loss: 0.0074\n",
            "Epoch 92/1000\n",
            "8/8 [==============================] - 3s 392ms/step - loss: 0.0103 - val_loss: 0.0080\n",
            "Epoch 93/1000\n",
            "8/8 [==============================] - 3s 394ms/step - loss: 0.0103 - val_loss: 0.0072\n",
            "Epoch 94/1000\n",
            "8/8 [==============================] - 3s 377ms/step - loss: 0.0109 - val_loss: 0.0088\n",
            "Epoch 95/1000\n",
            "8/8 [==============================] - 3s 380ms/step - loss: 0.0107 - val_loss: 0.0073\n",
            "Epoch 96/1000\n",
            "8/8 [==============================] - 3s 392ms/step - loss: 0.0108 - val_loss: 0.0079\n",
            "Epoch 97/1000\n",
            "8/8 [==============================] - 3s 392ms/step - loss: 0.0101 - val_loss: 0.0075\n",
            "Epoch 98/1000\n",
            "8/8 [==============================] - 3s 385ms/step - loss: 0.0105 - val_loss: 0.0076\n",
            "Epoch 99/1000\n",
            "8/8 [==============================] - 3s 384ms/step - loss: 0.0103 - val_loss: 0.0077\n",
            "Epoch 100/1000\n",
            "8/8 [==============================] - 3s 386ms/step - loss: 0.0105 - val_loss: 0.0072\n",
            "Epoch 101/1000\n",
            "8/8 [==============================] - 3s 389ms/step - loss: 0.0113 - val_loss: 0.0086\n",
            "Epoch 102/1000\n",
            "8/8 [==============================] - 3s 390ms/step - loss: 0.0102 - val_loss: 0.0075\n",
            "Epoch 103/1000\n",
            "8/8 [==============================] - 3s 384ms/step - loss: 0.0104 - val_loss: 0.0077\n",
            "Epoch 104/1000\n",
            "8/8 [==============================] - 3s 386ms/step - loss: 0.0099 - val_loss: 0.0076\n",
            "Epoch 105/1000\n",
            "8/8 [==============================] - 3s 377ms/step - loss: 0.0102 - val_loss: 0.0073\n",
            "Epoch 106/1000\n",
            "8/8 [==============================] - 3s 384ms/step - loss: 0.0105 - val_loss: 0.0071\n",
            "Epoch 107/1000\n",
            "8/8 [==============================] - 3s 385ms/step - loss: 0.0102 - val_loss: 0.0076\n",
            "Epoch 108/1000\n",
            "8/8 [==============================] - 3s 388ms/step - loss: 0.0106 - val_loss: 0.0085\n",
            "Epoch 109/1000\n",
            "8/8 [==============================] - 3s 384ms/step - loss: 0.0107 - val_loss: 0.0073\n",
            "Epoch 110/1000\n",
            "8/8 [==============================] - 3s 389ms/step - loss: 0.0100 - val_loss: 0.0082\n",
            "Epoch 111/1000\n",
            "8/8 [==============================] - 3s 410ms/step - loss: 0.0104 - val_loss: 0.0085\n",
            "Epoch 112/1000\n",
            "8/8 [==============================] - 3s 397ms/step - loss: 0.0094 - val_loss: 0.0074\n",
            "Epoch 113/1000\n",
            "8/8 [==============================] - 3s 382ms/step - loss: 0.0097 - val_loss: 0.0085\n",
            "Epoch 114/1000\n",
            "8/8 [==============================] - 3s 382ms/step - loss: 0.0099 - val_loss: 0.0074\n",
            "Epoch 115/1000\n",
            "8/8 [==============================] - 3s 397ms/step - loss: 0.0100 - val_loss: 0.0079\n",
            "Epoch 116/1000\n",
            "8/8 [==============================] - 3s 404ms/step - loss: 0.0094 - val_loss: 0.0071\n",
            "Epoch 117/1000\n",
            "8/8 [==============================] - 3s 385ms/step - loss: 0.0092 - val_loss: 0.0075\n",
            "Epoch 118/1000\n",
            "8/8 [==============================] - 3s 398ms/step - loss: 0.0098 - val_loss: 0.0068\n",
            "Epoch 119/1000\n",
            "8/8 [==============================] - 3s 375ms/step - loss: 0.0092 - val_loss: 0.0082\n",
            "Epoch 120/1000\n",
            "8/8 [==============================] - 3s 388ms/step - loss: 0.0112 - val_loss: 0.0078\n",
            "Epoch 121/1000\n",
            "8/8 [==============================] - 3s 394ms/step - loss: 0.0103 - val_loss: 0.0079\n",
            "Epoch 122/1000\n",
            "8/8 [==============================] - 3s 387ms/step - loss: 0.0101 - val_loss: 0.0072\n",
            "Epoch 123/1000\n",
            "8/8 [==============================] - 3s 391ms/step - loss: 0.0091 - val_loss: 0.0080\n",
            "Epoch 124/1000\n",
            "8/8 [==============================] - 3s 374ms/step - loss: 0.0100 - val_loss: 0.0068\n",
            "Epoch 125/1000\n",
            "8/8 [==============================] - 3s 384ms/step - loss: 0.0091 - val_loss: 0.0075\n",
            "Epoch 126/1000\n",
            "8/8 [==============================] - 3s 384ms/step - loss: 0.0090 - val_loss: 0.0067\n",
            "Epoch 127/1000\n",
            "8/8 [==============================] - 3s 389ms/step - loss: 0.0090 - val_loss: 0.0067\n",
            "Epoch 128/1000\n",
            "8/8 [==============================] - 3s 383ms/step - loss: 0.0090 - val_loss: 0.0072\n",
            "Epoch 129/1000\n",
            "8/8 [==============================] - 3s 376ms/step - loss: 0.0082 - val_loss: 0.0066\n",
            "Epoch 130/1000\n",
            "8/8 [==============================] - 3s 391ms/step - loss: 0.0093 - val_loss: 0.0089\n",
            "Epoch 131/1000\n",
            "8/8 [==============================] - 3s 389ms/step - loss: 0.0093 - val_loss: 0.0065\n",
            "Epoch 132/1000\n",
            "8/8 [==============================] - 3s 379ms/step - loss: 0.0085 - val_loss: 0.0070\n",
            "Epoch 133/1000\n",
            "8/8 [==============================] - 3s 375ms/step - loss: 0.0084 - val_loss: 0.0069\n",
            "Epoch 134/1000\n",
            "8/8 [==============================] - 3s 383ms/step - loss: 0.0085 - val_loss: 0.0073\n",
            "Epoch 135/1000\n",
            "8/8 [==============================] - 3s 384ms/step - loss: 0.0086 - val_loss: 0.0066\n",
            "Epoch 136/1000\n",
            "8/8 [==============================] - 3s 387ms/step - loss: 0.0090 - val_loss: 0.0066\n",
            "Epoch 137/1000\n",
            "8/8 [==============================] - 3s 380ms/step - loss: 0.0090 - val_loss: 0.0077\n",
            "Epoch 138/1000\n",
            "8/8 [==============================] - 3s 397ms/step - loss: 0.0089 - val_loss: 0.0083\n",
            "Epoch 139/1000\n",
            "8/8 [==============================] - 3s 386ms/step - loss: 0.0098 - val_loss: 0.0097\n",
            "Epoch 140/1000\n",
            "8/8 [==============================] - 3s 395ms/step - loss: 0.0100 - val_loss: 0.0065\n",
            "Epoch 141/1000\n",
            "8/8 [==============================] - 3s 392ms/step - loss: 0.0105 - val_loss: 0.0081\n",
            "Epoch 142/1000\n",
            "8/8 [==============================] - 3s 388ms/step - loss: 0.0093 - val_loss: 0.0068\n",
            "Epoch 143/1000\n",
            "8/8 [==============================] - 3s 377ms/step - loss: 0.0097 - val_loss: 0.0106\n",
            "Epoch 144/1000\n",
            "8/8 [==============================] - 3s 379ms/step - loss: 0.0089 - val_loss: 0.0066\n",
            "Epoch 145/1000\n",
            "8/8 [==============================] - 3s 389ms/step - loss: 0.0082 - val_loss: 0.0077\n",
            "Epoch 146/1000\n",
            "8/8 [==============================] - 3s 405ms/step - loss: 0.0087 - val_loss: 0.0080\n",
            "Epoch 147/1000\n",
            "8/8 [==============================] - 3s 401ms/step - loss: 0.0081 - val_loss: 0.0067\n",
            "Epoch 148/1000\n",
            "8/8 [==============================] - 3s 394ms/step - loss: 0.0092 - val_loss: 0.0065\n",
            "Epoch 149/1000\n",
            "8/8 [==============================] - 3s 395ms/step - loss: 0.0090 - val_loss: 0.0099\n",
            "Epoch 150/1000\n",
            "8/8 [==============================] - 3s 390ms/step - loss: 0.0093 - val_loss: 0.0065\n",
            "Epoch 151/1000\n",
            "8/8 [==============================] - 3s 390ms/step - loss: 0.0081 - val_loss: 0.0065\n",
            "Epoch 152/1000\n",
            "8/8 [==============================] - 3s 394ms/step - loss: 0.0079 - val_loss: 0.0072\n",
            "Epoch 153/1000\n",
            "8/8 [==============================] - 3s 377ms/step - loss: 0.0079 - val_loss: 0.0061\n",
            "Epoch 154/1000\n",
            "8/8 [==============================] - 3s 385ms/step - loss: 0.0085 - val_loss: 0.0064\n",
            "Epoch 155/1000\n",
            "8/8 [==============================] - 3s 375ms/step - loss: 0.0089 - val_loss: 0.0072\n",
            "Epoch 156/1000\n",
            "8/8 [==============================] - 3s 388ms/step - loss: 0.0084 - val_loss: 0.0066\n",
            "Epoch 157/1000\n",
            "8/8 [==============================] - 3s 381ms/step - loss: 0.0081 - val_loss: 0.0070\n",
            "Epoch 158/1000\n",
            "8/8 [==============================] - 3s 380ms/step - loss: 0.0086 - val_loss: 0.0079\n",
            "Epoch 159/1000\n",
            "8/8 [==============================] - 3s 401ms/step - loss: 0.0080 - val_loss: 0.0062\n",
            "Epoch 160/1000\n",
            "8/8 [==============================] - 3s 389ms/step - loss: 0.0089 - val_loss: 0.0067\n",
            "Epoch 161/1000\n",
            "8/8 [==============================] - 3s 380ms/step - loss: 0.0087 - val_loss: 0.0069\n",
            "Epoch 162/1000\n",
            "8/8 [==============================] - 3s 391ms/step - loss: 0.0079 - val_loss: 0.0059\n",
            "Epoch 163/1000\n",
            "8/8 [==============================] - 3s 386ms/step - loss: 0.0080 - val_loss: 0.0071\n",
            "Epoch 164/1000\n",
            "8/8 [==============================] - 3s 387ms/step - loss: 0.0086 - val_loss: 0.0090\n",
            "Epoch 165/1000\n",
            "8/8 [==============================] - 3s 391ms/step - loss: 0.0093 - val_loss: 0.0059\n",
            "Epoch 166/1000\n",
            "8/8 [==============================] - 3s 384ms/step - loss: 0.0079 - val_loss: 0.0059\n",
            "Epoch 167/1000\n",
            "8/8 [==============================] - 3s 383ms/step - loss: 0.0084 - val_loss: 0.0075\n",
            "Epoch 168/1000\n",
            "8/8 [==============================] - 3s 388ms/step - loss: 0.0082 - val_loss: 0.0059\n",
            "Epoch 169/1000\n",
            "8/8 [==============================] - 3s 397ms/step - loss: 0.0081 - val_loss: 0.0077\n",
            "Epoch 170/1000\n",
            "8/8 [==============================] - 3s 403ms/step - loss: 0.0081 - val_loss: 0.0061\n",
            "Epoch 171/1000\n",
            "8/8 [==============================] - 3s 399ms/step - loss: 0.0081 - val_loss: 0.0071\n",
            "Epoch 172/1000\n",
            "8/8 [==============================] - 3s 407ms/step - loss: 0.0080 - val_loss: 0.0075\n",
            "Epoch 173/1000\n",
            "8/8 [==============================] - 3s 407ms/step - loss: 0.0090 - val_loss: 0.0063\n",
            "Epoch 174/1000\n",
            "8/8 [==============================] - 3s 401ms/step - loss: 0.0082 - val_loss: 0.0060\n",
            "Epoch 175/1000\n",
            "8/8 [==============================] - 3s 399ms/step - loss: 0.0086 - val_loss: 0.0069\n",
            "Epoch 176/1000\n",
            "8/8 [==============================] - 3s 417ms/step - loss: 0.0079 - val_loss: 0.0088\n",
            "Epoch 177/1000\n",
            "8/8 [==============================] - 3s 398ms/step - loss: 0.0086 - val_loss: 0.0058\n",
            "Epoch 178/1000\n",
            "8/8 [==============================] - 3s 401ms/step - loss: 0.0081 - val_loss: 0.0062\n",
            "Epoch 179/1000\n",
            "8/8 [==============================] - 3s 427ms/step - loss: 0.0086 - val_loss: 0.0077\n",
            "Epoch 180/1000\n",
            "8/8 [==============================] - 3s 376ms/step - loss: 0.0083 - val_loss: 0.0081\n",
            "Epoch 181/1000\n",
            "8/8 [==============================] - 3s 387ms/step - loss: 0.0082 - val_loss: 0.0059\n",
            "Epoch 182/1000\n",
            "8/8 [==============================] - 3s 371ms/step - loss: 0.0089 - val_loss: 0.0059\n",
            "Epoch 183/1000\n",
            "8/8 [==============================] - 3s 389ms/step - loss: 0.0085 - val_loss: 0.0069\n",
            "Epoch 184/1000\n",
            "8/8 [==============================] - 3s 382ms/step - loss: 0.0079 - val_loss: 0.0066\n",
            "Epoch 185/1000\n",
            "8/8 [==============================] - 3s 393ms/step - loss: 0.0082 - val_loss: 0.0057\n",
            "Epoch 186/1000\n",
            "8/8 [==============================] - 3s 386ms/step - loss: 0.0080 - val_loss: 0.0066\n",
            "Epoch 187/1000\n",
            "8/8 [==============================] - 3s 382ms/step - loss: 0.0082 - val_loss: 0.0065\n",
            "Epoch 188/1000\n",
            "8/8 [==============================] - 3s 391ms/step - loss: 0.0085 - val_loss: 0.0095\n",
            "Epoch 189/1000\n",
            "8/8 [==============================] - 3s 401ms/step - loss: 0.0090 - val_loss: 0.0057\n",
            "Epoch 190/1000\n",
            "8/8 [==============================] - 3s 374ms/step - loss: 0.0079 - val_loss: 0.0061\n",
            "Epoch 191/1000\n",
            "8/8 [==============================] - 3s 386ms/step - loss: 0.0083 - val_loss: 0.0064\n",
            "Epoch 192/1000\n",
            "8/8 [==============================] - 3s 390ms/step - loss: 0.0086 - val_loss: 0.0090\n",
            "Epoch 193/1000\n",
            "8/8 [==============================] - 3s 403ms/step - loss: 0.0085 - val_loss: 0.0059\n",
            "Epoch 194/1000\n",
            "8/8 [==============================] - 3s 398ms/step - loss: 0.0085 - val_loss: 0.0078\n",
            "Epoch 195/1000\n",
            "8/8 [==============================] - 3s 380ms/step - loss: 0.0081 - val_loss: 0.0062\n",
            "Epoch 196/1000\n",
            "8/8 [==============================] - 3s 391ms/step - loss: 0.0078 - val_loss: 0.0055\n",
            "Epoch 197/1000\n",
            "8/8 [==============================] - 3s 380ms/step - loss: 0.0085 - val_loss: 0.0061\n",
            "Epoch 198/1000\n",
            "8/8 [==============================] - 3s 389ms/step - loss: 0.0079 - val_loss: 0.0064\n",
            "Epoch 199/1000\n",
            "8/8 [==============================] - 3s 389ms/step - loss: 0.0079 - val_loss: 0.0061\n",
            "Epoch 200/1000\n",
            "8/8 [==============================] - 3s 384ms/step - loss: 0.0082 - val_loss: 0.0065\n",
            "Epoch 201/1000\n",
            "8/8 [==============================] - 3s 395ms/step - loss: 0.0078 - val_loss: 0.0062\n",
            "Epoch 202/1000\n",
            "8/8 [==============================] - 3s 376ms/step - loss: 0.0074 - val_loss: 0.0058\n",
            "Epoch 203/1000\n",
            "8/8 [==============================] - 3s 375ms/step - loss: 0.0078 - val_loss: 0.0067\n",
            "Epoch 204/1000\n",
            "8/8 [==============================] - 3s 381ms/step - loss: 0.0085 - val_loss: 0.0087\n",
            "Epoch 205/1000\n",
            "8/8 [==============================] - 3s 375ms/step - loss: 0.0079 - val_loss: 0.0067\n",
            "Epoch 206/1000\n",
            "8/8 [==============================] - 3s 379ms/step - loss: 0.0085 - val_loss: 0.0066\n",
            "Epoch 207/1000\n",
            "8/8 [==============================] - 3s 380ms/step - loss: 0.0079 - val_loss: 0.0058\n",
            "Epoch 208/1000\n",
            "8/8 [==============================] - 3s 370ms/step - loss: 0.0077 - val_loss: 0.0060\n",
            "Epoch 209/1000\n",
            "8/8 [==============================] - 3s 377ms/step - loss: 0.0078 - val_loss: 0.0071\n",
            "Epoch 210/1000\n",
            "8/8 [==============================] - 3s 371ms/step - loss: 0.0082 - val_loss: 0.0057\n",
            "Epoch 211/1000\n",
            "8/8 [==============================] - 3s 365ms/step - loss: 0.0075 - val_loss: 0.0056\n",
            "Epoch 212/1000\n",
            "8/8 [==============================] - 3s 380ms/step - loss: 0.0078 - val_loss: 0.0070\n",
            "Epoch 213/1000\n",
            "8/8 [==============================] - 3s 382ms/step - loss: 0.0079 - val_loss: 0.0063\n",
            "Epoch 214/1000\n",
            "8/8 [==============================] - 3s 385ms/step - loss: 0.0075 - val_loss: 0.0056\n",
            "Epoch 215/1000\n",
            "8/8 [==============================] - 3s 391ms/step - loss: 0.0082 - val_loss: 0.0090\n",
            "Epoch 216/1000\n",
            "8/8 [==============================] - 3s 388ms/step - loss: 0.0085 - val_loss: 0.0055\n",
            "Model: \"sequential_1\"\n",
            "_________________________________________________________________\n",
            " Layer (type)                Output Shape              Param #   \n",
            "=================================================================\n",
            " lstm_5 (LSTM)               (None, 10, 512)           1052672   \n",
            "                                                                 \n",
            " lstm_6 (LSTM)               (None, 10, 256)           787456    \n",
            "                                                                 \n",
            " lstm_7 (LSTM)               (None, 10, 128)           197120    \n",
            "                                                                 \n",
            " lstm_8 (LSTM)               (None, 10, 64)            49408     \n",
            "                                                                 \n",
            " lstm_9 (LSTM)               (None, 32)                12416     \n",
            "                                                                 \n",
            " dense_1 (Dense)             (None, 1)                 33        \n",
            "                                                                 \n",
            "=================================================================\n",
            "Total params: 2,099,105\n",
            "Trainable params: 2,099,105\n",
            "Non-trainable params: 0\n",
            "_________________________________________________________________\n",
            "Epoch 1/1000\n",
            "7/7 [==============================] - 15s 898ms/step - loss: 0.0129 - val_loss: 0.0113\n",
            "Epoch 2/1000\n",
            "7/7 [==============================] - 3s 384ms/step - loss: 0.0042 - val_loss: 0.0111\n",
            "Epoch 3/1000\n",
            "7/7 [==============================] - 3s 404ms/step - loss: 0.0036 - val_loss: 0.0110\n",
            "Epoch 4/1000\n",
            "7/7 [==============================] - 3s 400ms/step - loss: 0.0034 - val_loss: 0.0108\n",
            "Epoch 5/1000\n",
            "7/7 [==============================] - 3s 400ms/step - loss: 0.0032 - val_loss: 0.0098\n",
            "Epoch 6/1000\n",
            "7/7 [==============================] - 3s 397ms/step - loss: 0.0028 - val_loss: 0.0089\n",
            "Epoch 7/1000\n",
            "7/7 [==============================] - 3s 391ms/step - loss: 0.0028 - val_loss: 0.0087\n",
            "Epoch 8/1000\n",
            "7/7 [==============================] - 3s 418ms/step - loss: 0.0028 - val_loss: 0.0090\n",
            "Epoch 9/1000\n",
            "7/7 [==============================] - 3s 405ms/step - loss: 0.0025 - val_loss: 0.0093\n",
            "Epoch 10/1000\n",
            "7/7 [==============================] - 3s 400ms/step - loss: 0.0026 - val_loss: 0.0090\n",
            "Epoch 11/1000\n",
            "7/7 [==============================] - 3s 404ms/step - loss: 0.0028 - val_loss: 0.0088\n",
            "Epoch 12/1000\n",
            "7/7 [==============================] - 3s 389ms/step - loss: 0.0029 - val_loss: 0.0094\n",
            "Epoch 13/1000\n",
            "7/7 [==============================] - 3s 398ms/step - loss: 0.0030 - val_loss: 0.0095\n",
            "Epoch 14/1000\n",
            "7/7 [==============================] - 3s 397ms/step - loss: 0.0026 - val_loss: 0.0088\n",
            "Epoch 15/1000\n",
            "7/7 [==============================] - 3s 412ms/step - loss: 0.0025 - val_loss: 0.0086\n",
            "Epoch 16/1000\n",
            "7/7 [==============================] - 3s 383ms/step - loss: 0.0025 - val_loss: 0.0088\n",
            "Epoch 17/1000\n",
            "7/7 [==============================] - 3s 404ms/step - loss: 0.0026 - val_loss: 0.0089\n",
            "Epoch 18/1000\n",
            "7/7 [==============================] - 3s 408ms/step - loss: 0.0026 - val_loss: 0.0088\n",
            "Epoch 19/1000\n",
            "7/7 [==============================] - 3s 421ms/step - loss: 0.0026 - val_loss: 0.0089\n",
            "Epoch 20/1000\n",
            "7/7 [==============================] - 3s 406ms/step - loss: 0.0027 - val_loss: 0.0090\n",
            "Epoch 21/1000\n",
            "7/7 [==============================] - 3s 413ms/step - loss: 0.0026 - val_loss: 0.0089\n",
            "Epoch 22/1000\n",
            "7/7 [==============================] - 3s 404ms/step - loss: 0.0024 - val_loss: 0.0086\n",
            "Epoch 23/1000\n",
            "7/7 [==============================] - 3s 411ms/step - loss: 0.0024 - val_loss: 0.0088\n",
            "Epoch 24/1000\n",
            "7/7 [==============================] - 3s 416ms/step - loss: 0.0027 - val_loss: 0.0091\n",
            "Epoch 25/1000\n",
            "7/7 [==============================] - 3s 434ms/step - loss: 0.0024 - val_loss: 0.0086\n",
            "Epoch 26/1000\n",
            "7/7 [==============================] - 3s 420ms/step - loss: 0.0026 - val_loss: 0.0087\n",
            "Epoch 27/1000\n",
            "7/7 [==============================] - 3s 415ms/step - loss: 0.0027 - val_loss: 0.0089\n",
            "Epoch 28/1000\n",
            "7/7 [==============================] - 3s 404ms/step - loss: 0.0027 - val_loss: 0.0088\n",
            "Epoch 29/1000\n",
            "7/7 [==============================] - 3s 398ms/step - loss: 0.0026 - val_loss: 0.0088\n",
            "Epoch 30/1000\n",
            "7/7 [==============================] - 3s 403ms/step - loss: 0.0027 - val_loss: 0.0088\n",
            "Epoch 31/1000\n",
            "7/7 [==============================] - 3s 435ms/step - loss: 0.0029 - val_loss: 0.0098\n",
            "Epoch 32/1000\n",
            "7/7 [==============================] - 3s 425ms/step - loss: 0.0030 - val_loss: 0.0095\n",
            "Epoch 33/1000\n",
            "7/7 [==============================] - 3s 406ms/step - loss: 0.0027 - val_loss: 0.0088\n",
            "Epoch 34/1000\n",
            "7/7 [==============================] - 3s 406ms/step - loss: 0.0027 - val_loss: 0.0086\n",
            "Epoch 35/1000\n",
            "7/7 [==============================] - 3s 419ms/step - loss: 0.0027 - val_loss: 0.0095\n",
            "Epoch 36/1000\n",
            "7/7 [==============================] - 3s 431ms/step - loss: 0.0027 - val_loss: 0.0087\n",
            "Epoch 37/1000\n",
            "7/7 [==============================] - 3s 405ms/step - loss: 0.0026 - val_loss: 0.0087\n",
            "Epoch 38/1000\n",
            "7/7 [==============================] - 3s 408ms/step - loss: 0.0026 - val_loss: 0.0089\n",
            "Epoch 39/1000\n",
            "7/7 [==============================] - 3s 407ms/step - loss: 0.0026 - val_loss: 0.0090\n",
            "Epoch 40/1000\n",
            "7/7 [==============================] - 3s 395ms/step - loss: 0.0028 - val_loss: 0.0089\n",
            "Epoch 41/1000\n",
            "7/7 [==============================] - 3s 401ms/step - loss: 0.0026 - val_loss: 0.0089\n",
            "Epoch 42/1000\n",
            "7/7 [==============================] - 3s 406ms/step - loss: 0.0027 - val_loss: 0.0090\n",
            "finish\n"
          ]
        }
      ]
    },
    {
      "cell_type": "code",
      "source": [
        "for i in range(datasize):\n",
        "  plt.plot(history[i].history['loss'])\n",
        "  plt.plot(history[i].history['val_loss'])\n",
        "  plt.xlabel('epoch')\n",
        "  plt.ylabel('loss')\n",
        "  plt.legend(['train','val'])\n",
        "  plt.show()"
      ],
      "metadata": {
        "colab": {
          "base_uri": "https://localhost:8080/",
          "height": 541
        },
        "id": "LCgiIHuaKErc",
        "outputId": "e9d3e331-6251-42d4-ce4a-6f22dd60102b"
      },
      "execution_count": null,
      "outputs": [
        {
          "output_type": "display_data",
          "data": {
            "text/plain": [
              "<Figure size 432x288 with 1 Axes>"
            ],
            "image/png": "[encoded data removed]"
          },
          "metadata": {
            "needs_background": "light"
          }
        },
        {
          "output_type": "display_data",
          "data": {
            "text/plain": [
              "<Figure size 432x288 with 1 Axes>"
            ],
            "image/png": "[encoded data removed]"
          },
          "metadata": {
            "needs_background": "light"
          }
        }
      ]
    },
    {
      "cell_type": "code",
      "source": [
        "pred = [] \n",
        "for i in range(datasize):\n",
        "  x_data_sc = x_sc[i].transform(x_data[i])\n",
        "  pred.append(y_sc[i].inverse_transform(model[i].predict(x_data_sc)))"
      ],
      "metadata": {
        "colab": {
          "base_uri": "https://localhost:8080/"
        },
        "id": "fXFKUD4YMS8G",
        "outputId": "9ca25333-efd6-400d-9dad-adf9fd971779"
      },
      "execution_count": null,
      "outputs": [
        {
          "output_type": "stream",
          "name": "stdout",
          "text": [
            "19/19 [==============================] - 4s 58ms/step\n",
            "17/17 [==============================] - 3s 57ms/step\n"
          ]
        }
      ]
    },
    {
      "cell_type": "markdown",
      "source": [
        "mse 값"
      ],
      "metadata": {
        "id": "BuLHuHapOKsm"
      }
    },
    {
      "cell_type": "code",
      "source": [
        "for i in range(datasize):\n",
        "  print(mean_absolute_error(y_data[i],pred[i]))"
      ],
      "metadata": {
        "colab": {
          "base_uri": "https://localhost:8080/"
        },
        "id": "-q3_UnBPNz2J",
        "outputId": "554a89e9-9ad8-4cdc-a37f-9bee49e2c4b2"
      },
      "execution_count": null,
      "outputs": [
        {
          "output_type": "stream",
          "name": "stdout",
          "text": [
            "607.399543234349\n",
            "329.4792403541421\n"
          ]
        }
      ]
    },
    {
      "cell_type": "markdown",
      "source": [
        "r2score 값"
      ],
      "metadata": {
        "id": "_8lJygbXOe2U"
      }
    },
    {
      "cell_type": "code",
      "source": [
        "for i in range(datasize):\n",
        "  print(r2_score(y_data[i], pred[i]))  "
      ],
      "metadata": {
        "colab": {
          "base_uri": "https://localhost:8080/"
        },
        "id": "dJF5WPbDOKLY",
        "outputId": "d1e96848-2b94-42b7-998c-49499d810f1b"
      },
      "execution_count": null,
      "outputs": [
        {
          "output_type": "stream",
          "name": "stdout",
          "text": [
            "0.7562948230336782\n",
            "0.41392877733789346\n"
          ]
        }
      ]
    },
    {
      "cell_type": "code",
      "source": [
        "for i in range(datasize):\n",
        "  plt.figure()\n",
        "  plt.plot(y_data[i], color='red', label='real')\n",
        "  plt.plot(pred[i], color='blue', label='adam_LSTM')\n",
        "\n",
        "  # plt.title('SEC stock price prediction')\n",
        "  plt.xlabel('time')\n",
        "  plt.ylabel('price')\n",
        "  plt.xlim([1, len(y_data[i])]) \n",
        "  plt.legend()\n",
        "  plt.show()\n",
        "# print(\"내일 SEC 주가 :\", df.Close[-1] * pred_y[-1] / dfy.Close[-1], 'KRW')"
      ],
      "metadata": {
        "colab": {
          "base_uri": "https://localhost:8080/",
          "height": 545
        },
        "id": "jLd-DwqKOg4v",
        "outputId": "7748e852-f557-4ff4-8cd4-2545e7a5d05c"
      },
      "execution_count": null,
      "outputs": [
        {
          "output_type": "display_data",
          "data": {
            "text/plain": [
              "<Figure size 432x288 with 1 Axes>"
            ],
            "image/png": "[encoded data removed]"
          },
          "metadata": {
            "needs_background": "light"
          }
        },
        {
          "output_type": "display_data",
          "data": {
            "text/plain": [
              "<Figure size 432x288 with 1 Axes>"
            ],
            "image/png": "[encoded data removed]"
          },
          "metadata": {
            "needs_background": "light"
          }
        }
      ]
    },
    {
      "cell_type": "code",
      "source": [
        "date_pred_dic_list = []\n",
        "for i in range(datasize):\n",
        "  date_pred_dic = {}\n",
        "  for j in range(len(pred[i])):\n",
        "    date_pred_dic[date[i][j]] = pred[i][j][0]\n",
        "  date_pred_dic_list.append(date_pred_dic)"
      ],
      "metadata": {
        "id": "rTDZO3B9bnHs"
      },
      "execution_count": null,
      "outputs": []
    },
    {
      "cell_type": "code",
      "source": [
        "update_ori_data = [] # 예측값이 업데이트된 csv\n",
        "\n",
        "for i in range(datasize):\n",
        "  update_ori_data.append(ori_data[i])\n",
        "  update_ori_data[i] = update_ori_data[i].drop(update_ori_data[i][update_ori_data[i]['DELNG_DE'] < date[i][0]].index)\n",
        "  delng_de_list = update_ori_data[i]['DELNG_DE'].tolist()\n",
        "  delng_de_pred_list = [] \n",
        "  for j in range(len(update_ori_data[i])):\n",
        "    delng_de_pred_list.append(date_pred_dic_list[i][delng_de_list[j]])\n",
        "  update_ori_data[i]['PRI_PRED'] = delng_de_pred_list\n",
        "  print(update_ori_data[i])\n"
      ],
      "metadata": {
        "id": "3OHXqN_vf7QF",
        "colab": {
          "base_uri": "https://localhost:8080/"
        },
        "outputId": "7f9772c6-57b0-4755-a3c9-e661d2264e3b"
      },
      "execution_count": null,
      "outputs": [
        {
          "output_type": "stream",
          "name": "stdout",
          "text": [
            "      Unnamed: 0  Unnamed: 0.1    DELNG_DE MRKT_NM CPR_NM PRDLST_NM SPCIES_NM  \\\n",
            "6              6             6  2021-01-15  서울가락도매   중앙청과       풋고추        청양   \n",
            "7              7             7  2021-01-16  서울가락도매   중앙청과       풋고추        청양   \n",
            "8              8             8  2021-01-18  서울가락도매   중앙청과       풋고추        청양   \n",
            "9              9             9  2021-01-20  서울가락도매   중앙청과       풋고추        청양   \n",
            "10            10            10  2021-01-21  서울가락도매   중앙청과       풋고추        청양   \n",
            "...          ...           ...         ...     ...    ...       ...       ...   \n",
            "2186           5             5  2023-01-14  서울가락도매   한국청과       풋고추        청양   \n",
            "2187           6             6  2023-01-18  서울가락도매   한국청과       풋고추        청양   \n",
            "2188           7             7  2023-01-19  서울가락도매   한국청과       풋고추        청양   \n",
            "2189           8             8  2023-01-20  서울가락도매   한국청과       풋고추        청양   \n",
            "2190           9             9  2023-01-21  서울가락도매   한국청과       풋고추        청양   \n",
            "\n",
            "     GRAD weight  PRI_MAX  PRI_MIN      PRI_AVE     PRI_PRED  \n",
            "6       특    1KG   5400.0   3300.0  4854.545455  3797.004395  \n",
            "7       특    1KG   6350.0   3750.0  5623.563103  4080.332520  \n",
            "8       특    1KG   8500.0   5950.0  7810.752581  4486.391113  \n",
            "9       특    1KG   8000.0   5000.0  6667.663684  5177.823730  \n",
            "10      특    1KG   7500.0   2250.0  6503.645938  5582.292480  \n",
            "...   ...    ...      ...      ...          ...          ...  \n",
            "2186    특    1KG   7950.0   2100.0  5482.954545  6413.605469  \n",
            "2187    특    1KG   8300.0      0.0  5530.000000  5957.108398  \n",
            "2188    특    1KG   6300.0   5950.0  6125.000000  5974.318359  \n",
            "2189    특    1KG  10000.0    500.0  7274.085366  6035.284668  \n",
            "2190    특    1KG   7400.0    600.0  5994.897959  6303.052246  \n",
            "\n",
            "[2159 rows x 13 columns]\n",
            "      Unnamed: 0  Unnamed: 0.1    DELNG_DE MRKT_NM CPR_NM PRDLST_NM SPCIES_NM  \\\n",
            "6              6             6  2021-01-16  서울가락도매   중앙청과       새송이   새송이(일반)   \n",
            "7              7             7  2021-01-19  서울가락도매   중앙청과       새송이   새송이(일반)   \n",
            "8              8             8  2021-01-20  서울가락도매   중앙청과       새송이   새송이(일반)   \n",
            "9              9             9  2021-01-21  서울가락도매   중앙청과       새송이   새송이(일반)   \n",
            "10            10            10  2021-01-22  서울가락도매   중앙청과       새송이   새송이(일반)   \n",
            "...          ...           ...         ...     ...    ...       ...       ...   \n",
            "1717           5             5  2023-01-14  서울가락도매   한국청과       새송이   새송이(일반)   \n",
            "1718           6             6  2023-01-18  서울가락도매   한국청과       새송이   새송이(일반)   \n",
            "1719           7             7  2023-01-19  서울가락도매   한국청과       새송이   새송이(일반)   \n",
            "1720           8             8  2023-01-20  서울가락도매   한국청과       새송이   새송이(일반)   \n",
            "1721           9             9  2023-01-21  서울가락도매   한국청과       새송이   새송이(일반)   \n",
            "\n",
            "     GRAD weight   PRI_MAX  PRI_MIN      PRI_AVE     PRI_PRED  \n",
            "6       특    1KG   4600.00  1000.00  3267.631864  2556.938965  \n",
            "7       특    1KG   3222.22  3222.22  3222.220000  2774.512939  \n",
            "8       특    1KG   4750.00  1000.00  3127.122642  2897.370605  \n",
            "9       특    1KG   4750.00  1000.00  2989.730606  2962.913330  \n",
            "10      특    1KG   4000.00  1000.00  2774.824685  2988.048828  \n",
            "...   ...    ...       ...      ...          ...          ...  \n",
            "1717    특    1KG   7400.00  2875.00  4212.500122  3428.803711  \n",
            "1718    특    1KG   7600.00  3125.00  4525.821690  3138.166016  \n",
            "1719    특    1KG  10000.00  3625.00  5208.334286  3290.768799  \n",
            "1720    특    1KG   7000.00  2250.00  3830.833444  3578.644043  \n",
            "1721    특    1KG   7600.00  2875.00  3530.000182  3606.987793  \n",
            "\n",
            "[1692 rows x 13 columns]\n"
          ]
        }
      ]
    },
    {
      "cell_type": "code",
      "source": [
        "for i in range(datasize):\n",
        "  update_ori_data[i] = update_ori_data[i].drop(['Unnamed: 0','Unnamed: 0.1'], axis=1) \n",
        "  update_ori_data[i].to_csv('/content/drive/MyDrive/fintech_project/update_data/update_data{}.csv'.format(i))\n",
        "  update_ori_data[i].to_excel('/content/drive/MyDrive/fintech_project/update_data/update_data{}.xlsx'.format(i))"
      ],
      "metadata": {
        "id": "Z-iNfIdCpuBX"
      },
      "execution_count": null,
      "outputs": []
    },
    {
      "cell_type": "markdown",
      "source": [],
      "metadata": {
        "id": "_xoGD2BuFmXG"
      }
    }
  ]
}